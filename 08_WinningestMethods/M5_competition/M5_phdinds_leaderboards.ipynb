{
 "cells": [
  {
   "cell_type": "markdown",
   "metadata": {},
   "source": [
    "# PhDinDS-M5 Leaderboards\n",
    "\n",
    "The following markdown table presents the combined leaderboards of the (1) entire M5 competition, (2) entries of the the PhDinDS AIM students, and some (3) M5 benchamarks for comparison.\n",
    "\n",
    "For new entries, you may add a new row to the leaderboards and fill out the information accordingly. It is expected that these reported WRMSSE (M5 accuracy metric) for each entry is well-supported by its own directory that details the methodology used in obtaining the forecasts."
   ]
  },
  {
   "cell_type": "markdown",
   "metadata": {},
   "source": []
  }
 ],
 "metadata": {
  "hide_input": false,
  "kernelspec": {
   "display_name": "Python 3 (ipykernel)",
   "language": "python",
   "name": "python3"
  },
  "language_info": {
   "codemirror_mode": {
    "name": "ipython",
    "version": 3
   },
   "file_extension": ".py",
   "mimetype": "text/x-python",
   "name": "python",
   "nbconvert_exporter": "python",
   "pygments_lexer": "ipython3",
   "version": "3.9.6"
  },
  "toc": {
   "base_numbering": 1,
   "nav_menu": {},
   "number_sections": true,
   "sideBar": true,
   "skip_h1_title": false,
   "title_cell": "Table of Contents",
   "title_sidebar": "Contents",
   "toc_cell": false,
   "toc_position": {},
   "toc_section_display": true,
   "toc_window_display": false
  }
 },
 "nbformat": 4,
 "nbformat_minor": 2
}
