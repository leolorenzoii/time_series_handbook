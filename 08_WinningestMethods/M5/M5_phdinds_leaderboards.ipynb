{
 "cells": [
  {
   "cell_type": "markdown",
   "metadata": {},
   "source": [
    "# PhDinDS M5 Leaderboards\n",
    "\n",
    "The following table presents the combined leaderboards of the (1) entire M5 competition and (2) entries of the the PhDinDS AIM students.\n",
    "\n",
    "\n",
    "For new entries, upload predictions on all levels into the `predictions` directory following the structure of `predictions > [entry_name] > [level_id]`. Example, if the entry is by someone with the monicker of `ThomasShelby`, predictions on `level_id` `1` of m5 will be saved as a `.csv` file with the following structure:\n",
    "\n",
    "*Insert table structure here*\n",
    "\n",
    "And this will be in the directory: `./predictions/ThomasShelby/1`."
   ]
  },
  {
   "cell_type": "code",
   "execution_count": null,
   "metadata": {},
   "outputs": [],
   "source": []
  },
  {
   "cell_type": "markdown",
   "metadata": {},
   "source": []
  }
 ],
 "metadata": {
  "language_info": {
   "name": "python"
  },
  "orig_nbformat": 4
 },
 "nbformat": 4,
 "nbformat_minor": 2
}
