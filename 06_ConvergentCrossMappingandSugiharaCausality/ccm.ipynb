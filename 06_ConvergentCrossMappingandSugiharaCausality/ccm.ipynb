{
 "cells": [
  {
   "cell_type": "markdown",
   "metadata": {},
   "source": [
    "#  Convergent Cross Mapping\n"
   ]
  },
  {
   "cell_type": "markdown",
   "metadata": {},
   "source": [
    "## Introduction\n",
    "In the previous chapter we talked about Simplex Projection, a forecasting technique that looks for similar trends in the past to forecast the future by computing for nearest neighbors on an embedding. In this chapter, we discuss  Convergent Cross Mapping (CCM) also formulated by [Sugihara et al., 2012](https://science.sciencemag.org/content/338/6106/496) as a methodology that uses ideas from Simplex Projection to identify causality between variables in a complex dynamical system (e.g. ecosystem) using time series data.\n",
    "\n",
    "We will go through the key ideas of CCM, how it addresses the limitations of Granger causality, and the algorithm behind it. We will then test the CCM framework on simulated data where we will deliberately adjust the influence of one variable over the other. Finally, we will apply CCM on some real world data to infer the relationships between variables in a system.\n",
    "\n",
    "### causal-ccm Package\n",
    "This chapter explains the CCM methodology in detail. If you wish to apply this in your own projects, install the framework using `pip install causal-ccm`. See `using_causal_ccm_package.ipynb` notebook for details how to use."
   ]
  },
  {
   "cell_type": "markdown",
   "metadata": {},
   "source": [
    "### Importance of Understanding Causality\n",
    "We define causality as the influence of one variable on another. Understanding causality is important because it allows us to:\n",
    "* Explain phenomena that they are not necessarily supernatural/paranormal\n",
    "* Anticipate the future and make the necessary adjustments\n",
    "* Apply interventions in the system to achieve desired outcomes"
   ]
  },
  {
   "cell_type": "markdown",
   "metadata": {},
   "source": [
    "### Correlation and Causation\n",
    "\n",
    "Correlation does not imply causation.\n",
    "\n",
    "For any two correlated events, A and B, their possible relationships include:\n",
    "* A causes B (direct causation);\n",
    "* B causes A (reverse causation);\n",
    "* A and B are both caused by C (common causation);\n",
    "* A causes B and B causes A (bidirectional or cyclic causation);\n",
    "* There is no connection between A and B; the correlation is a coincidence.\n",
    "\n",
    "Two variables may be causally related but not correlated."
   ]
  },
  {
   "cell_type": "markdown",
   "metadata": {},
   "source": [
    "### Limitations of Granger Causality\n",
    "In chapter 4, we talked about a framework for establishing causality in a system called Granger Causality. However Granger Causality has its limitations. \n",
    "\n",
    "The intuition behind Granger causality is that a variable A causes B if we have a model that improves prediction of B if we include A. This framework assumes that we can \"separate\" the information about A from the rest of the system. However, in many systems that have interacting parts, information about a variable may not necessarily be removable from the rest of the system. They are integrated or in other words, not separable.\n",
    "\n",
    "Granger causality framework does not apply to cases where information about variables are not separable from the rest of the system especially for those whose causalities are weak to moderate (like in our test systems in the following sections). Finally, Granger Causality is dependent on the performance of a linear predictive model that assumes linear combination of variables. This model may not perform well for some systems that need nonlinear models to improve predictions."
   ]
  },
  {
   "cell_type": "markdown",
   "metadata": {},
   "source": [
    "### CCM addresses limits of Granger causality\n",
    "Convergent Cross Mapping is designed to identify and quantify causalities in systems whose variables are not separable. Beyond this, it is designed to identify and quantify weak to moderate causalities, which Granger Causality may miss. Finally, CCM is independent of a predictive model so we're not at the mercy of model performance."
   ]
  },
  {
   "cell_type": "markdown",
   "metadata": {},
   "source": [
    "## Overview of CCM\n",
    "\n",
    "<img src=https://media.springernature.com/lw785/springer-static/image/chp%3A10.1007%2F978-3-319-58895-7_27/MediaObjects/429072_1_En_27_Fig1_HTML.gif width=400>\n",
    "\n",
    "Tsonis A.A., Deyle E.R., Ye H., Sugihara G. (2018) Convergent Cross Mapping: Theory and an Example. In: Tsonis A. (eds) Advances in Nonlinear Geosciences. Springer, Cham. https://doi.org/10.1007/978-3-319-58895-7_27\n",
    "\n",
    "### Cross Mapping\n",
    "In a system $Y=f(X,Y)$, cross Mapping means given the points on the manifold of one variable $M_y$, we look for the corresponding points on $M_x$, i.e. points at the same time $t$.\n",
    "\n",
    "If $X$ causes $Y$, then we say some information about $X$ gets stored in $Y$. If this is the case, then we can predict the values of $X$ given values from $Y$. Note that this sounds counter intuitive. We contrast this with Granger causality which says that $X$ causes $Y$ if we can predict $Y$ better given $X$.\n",
    "\n",
    "If we use the analogy that manifolds are \"summaries\" of system, we can think of $M_x$ and $M_y$ as summaries of $X$ and $Y$. If $X$ causes $Y$, information from $X$ gets embedded in $Y$. It follows that we can then use $M_x$ to predict $Y$, i.e. $\\hat{Y}|M_x$. Finally, we can use the \"accuracy\" (MAE, MSE, or correlation) of this prediction as our metric for causality. \n",
    "\n",
    "### Convergence\n",
    "Convergence in CCM means that for variables with causalities, the longer our observation period (or more data we gather), the better we can predict one variable using the other. In the attractor example above, we can imagine the attractor will get denser as time goes on since our system will eventually fill in some of the gaps in the manifold. Stated another way, more defined manifolds imply that for variables with causalities, we can expect the accuracy of $\\hat{Y}|M_x$ to improve. If two variables have no causal link, then improving their manifolds will not translate to improvement in predictions.\n",
    "\n",
    "Cross mapping and convergence are two requirements in the CCM framework that we need to satisfy to consider the possiblity of causality between variables."
   ]
  },
  {
   "cell_type": "markdown",
   "metadata": {},
   "source": [
    "##  CCM Algorithm"
   ]
  },
  {
   "cell_type": "markdown",
   "metadata": {},
   "source": [
    "Given two time series \n",
    "\n",
    "$X = \\{X(1), X(2), ..., X(L)\\}$ and $Y = \\{Y(1), Y(2), ..., Y(L)\\}$ where $L$ is time series length,\n",
    "\n",
    "the CCM algorithm may be written in terms of five steps:\n",
    "\n",
    "1. Create the shadow manifold for $X$, called $M_x$;\n",
    "2. Find the nearest neighbors to a point in the shadow manifold at time $t$;\n",
    "3. Create weights using the nearest neighbors;\n",
    "4. Estimate $Y$ using the weights (this estimate is called $\\hat{Y} | M_x $); and \n",
    "5. Compute the correlation between $Y$ and ( $\\hat{Y} | M_x $)."
   ]
  },
  {
   "cell_type": "markdown",
   "metadata": {},
   "source": [
    "#### 1. Create the shadow manifold for $X$\n",
    "\n",
    "##### Takens' Embedding Theorem and Shadow Manifolds\n",
    "<img src = https://www.researchgate.net/profile/Pablo_Verdes/publication/51595532/figure/fig4/AS:305687352627206@1449892952960/Color-online-Schematic-representation-of-the-measurement-process-and-reconstruction-of.png width=500>\n",
    "\n",
    "Uzal, Lucas & Grinblat, G & Verdes, Pablo. (2011). Optimal reconstruction of dynamical systems: A noise amplification approach. Physical review. E, Statistical, nonlinear, and soft matter physics. 84. 016223. 10.1103/PhysRevE.84.016223. \n",
    "\n",
    "From the term \"shadow\", shadow manifolds are \"projections\" of the true system manifold on some variable $X$. We use shadow manifolds because we do not know the true manifold of the system. What Takens' theorem tells us is if $X$ belongs to a system $S$ then we can generate a shadow manifold of the true manifold $M_s$ using vectors of lagged (historical) values of $X$. The points in this shadow manifold $M_x$ will have a 1:1 correspondence with the points in the true (unknown) manifold $M_s$.\n",
    "\n",
    "To create the shadow manifold, compute lagged-coordinate vectors where $E$ is an \"embedding\" dimension. Search algorithms e.g. grid search can be used to identify what the best $E$ value is. $\\tau$ is the lag step.\n",
    "\n",
    "$\\tilde{X_t}$ = ($X_t$, $X_{t-\\tau}$, $X_{t-2\\tau}$, ..., $X_{t-(E-1)\\tau}$)) for $t \\in [1+(E-1)\\tau, L]$\n",
    "\n",
    "Define the \"shadow manifold\" $M_x = \\{\\tilde{X_t} \\text{ for each } t \\in [1+(E-1)\\tau, L]\\}$\n"
   ]
  },
  {
   "attachments": {},
   "cell_type": "markdown",
   "metadata": {},
   "source": [
    "<img src='media/shadow_manifold.PNG' width=\"300\"/>"
   ]
  },
  {
   "cell_type": "markdown",
   "metadata": {},
   "source": [
    "#### 2. Find the nearest neighbors to a point in the shadow manifold at time $t$;\n",
    "\n",
    "At $t$, locate $\\tilde{X_t}$ in $M_x$. Find the $E+1$ nearest neighbor vectors from selected vector $\\tilde{X_t}$. Sugihara, et al. noted that $E+1$ is the minimum number of points needed for an \"embedding/simplex\" with $E$ dimensions. \n",
    "\n",
    "For each $\\tilde{X_t}$, the nearest neighbor search results in a set of distances that are ordered by closeness {$d_1, d_2..., d_{E+1}$}. Denote the time indices of the $E+1$ nearest neighbors of $\\hat{X}_t$ by {$\\hat{t}_1, \\hat{t}_2..., \\hat{t}_{E+1}$}. These indices will be used to identify the corresponding points in $Y$.\n",
    "\n",
    "The distances from $\\tilde{X_t}$ are\n",
    "\n",
    "<center>$d_i$ = $D$($\\tilde{X_t}$,$\\tilde{X_{\\hat{t}_i}}$),</center> \n",
    "\n",
    "where $D(a,b)$ is the Euclidian distance between vectors a and b."
   ]
  },
  {
   "attachments": {},
   "cell_type": "markdown",
   "metadata": {},
   "source": [
    "<img src='media/nearest_neighbor.PNG' width=\"300\"/>"
   ]
  },
  {
   "cell_type": "markdown",
   "metadata": {},
   "source": [
    "#### 3. Create weights using the nearest neighbors\n",
    "\n",
    "Compute an associated weight for each $E+1$ neighbor as given by \n",
    "\n",
    "<center>$w_i = u_i / \\Sigma{u_j}$ <center>\n",
    "\n",
    "where $j = 1...E+1$\n",
    "\n",
    "Here, \n",
    "    <center>$u_i = e^{-d_i/d_1}$.<center>\n",
    "\n",
    "Note that we divide by $d_1$ to \"scale\" the distances as a multiple of the distance to the closest point. The intuition here is the farther away the neighbor, the lower the weight by some $e^{-k}$."
   ]
  },
  {
   "cell_type": "markdown",
   "metadata": {},
   "source": [
    "<div>\n",
    "<img src=\"attachment:cm.PNG\" width=\"250\"/>\n",
    "</div>"
   ]
  },
  {
   "cell_type": "markdown",
   "metadata": {},
   "source": [
    "#### 4. Estimate $Y$ using the weights\n",
    "\n",
    "A point $Y_t$ in $Y$ is estimated using the weights \n",
    "\n",
    "<center>${Y_t} | M_x = \\Sigma{w_iY_{\\hat{t}_i}}$ <center>\n",
    "\n",
    "If $X$ and $Y$ are dynamically \"coupled\" i.e. one influences the other, a clump of points in $M_x$ should correspond to a clump of points in $M_y$. And as $L$ increases, we get a denser cluster of $E+1$ points from $M_x$ that correspond to a denser cluster of points in $M_y$. Given this, ${Y} | M_x$ intuitively should converge to $Y$ as $L$ increases, e.g. we get more data/samples. Hence, we can test for convergence of the nearest neighbors to test for correspondence between states on $M_x$ and $M_y$."
   ]
  },
  {
   "attachments": {},
   "cell_type": "markdown",
   "metadata": {},
   "source": [
    "<img src='media/cm.png' width=\"600\"/>"
   ]
  },
  {
   "cell_type": "markdown",
   "metadata": {},
   "source": [
    "#### 5. Compute the correlation between $Y$ and ${Y} | M_x $\n",
    "\n",
    "We then compute the correlation coefficient between $Y$ and ${Y} | M_x$, $C_{YX}$. If there is significant correlation, this means we have enough information from $Y$ that is stored in $X$. We can thus use $X$ to predict $Y$. Same goes for $X$ influencing $Y$ ($C_{XY}$). The difference of the correlation coefficient will tell us the direction of causal relationship of $X$ and $Y$. If $\\Delta < 0$, then $X$ is said to \"CCM cause\" $Y$.\n",
    "\n",
    "<center>$\\Delta = C_{YX} - C_{XY}$<center>"
   ]
  },
  {
   "cell_type": "markdown",
   "metadata": {},
   "source": [
    "### Defining CCM Functions"
   ]
  },
  {
   "cell_type": "code",
   "execution_count": 1,
   "metadata": {},
   "outputs": [
    {
     "name": "stderr",
     "output_type": "stream",
     "text": [
      "Matplotlib created a temporary config/cache directory at /tmp/matplotlib-ifajrw9d because the default path (/home/rroxasvillanueva/.cache/matplotlib) is not a writable directory; it is highly recommended to set the MPLCONFIGDIR environment variable to a writable directory, in particular to speed up the import of Matplotlib and to better support multiprocessing.\n"
     ]
    }
   ],
   "source": [
    "import jdc # used fo defining functions for a class in separate cells\n",
    "import numpy as np\n",
    "import pandas as pd\n",
    "import matplotlib.pyplot as plt\n",
    "import seaborn as sns\n",
    "from scipy.spatial import distance\n",
    "from scipy.interpolate import make_interp_spline\n",
    "from tqdm import tqdm # for showing progress bar in for loops\n",
    "from scipy.stats import pearsonr\n",
    "\n",
    "### Just to remove warnings to prettify the notebook. \n",
    "import warnings\n",
    "warnings.filterwarnings(\"ignore\")"
   ]
  },
  {
   "cell_type": "code",
   "execution_count": 2,
   "metadata": {},
   "outputs": [],
   "source": [
    "# Computing \"Causality\" (Correlation between True and Predictions)\n",
    "class ccm:\n",
    "    def __init__(self, X, Y, tau=1, E=2, L=500):\n",
    "        '''\n",
    "        X: timeseries for variable X that could cause Y\n",
    "        Y: timeseries for variable Y that could be caused by X\n",
    "        tau: time lag\n",
    "        E: shadow manifold embedding dimension\n",
    "        L: time period/duration to consider (longer = more data)\n",
    "        We're checking for X -> Y\n",
    "        '''\n",
    "        self.X = X\n",
    "        self.Y = Y\n",
    "        self.tau = tau\n",
    "        self.E = E\n",
    "        self.L = L        \n",
    "        self.My = self.shadow_manifold(Y) # shadow manifold for Y (we want to know if info from X is in Y)\n",
    "        self.t_steps, self.dists = self.get_distances(self.My) # for distances between points in manifold    "
   ]
  },
  {
   "cell_type": "code",
   "execution_count": 3,
   "metadata": {},
   "outputs": [],
   "source": [
    "%%add_to ccm\n",
    "def shadow_manifold(self, X):\n",
    "    \"\"\"\n",
    "    Given\n",
    "        X: some time series vector\n",
    "        tau: lag step\n",
    "        E: shadow manifold embedding dimension\n",
    "        L: max time step to consider - 1 (starts from 0)\n",
    "    Returns\n",
    "        {t:[t, t-tau, t-2*tau ... t-(E-1)*tau]} = Shadow attractor manifold, dictionary of vectors\n",
    "    \"\"\"\n",
    "    X = X[:L] # make sure we cut at L\n",
    "    M = {t:[] for t in range((self.E-1) * self.tau, self.L)} # shadow manifold\n",
    "    for t in range((self.E-1) * self.tau, self.L):\n",
    "        x_lag = [] # lagged values\n",
    "        for t2 in range(0, self.E-1 + 1): # get lags, we add 1 to E-1 because we want to include E\n",
    "            x_lag.append(X[t-t2*self.tau])            \n",
    "        M[t] = x_lag\n",
    "    return M"
   ]
  },
  {
   "cell_type": "code",
   "execution_count": 4,
   "metadata": {},
   "outputs": [],
   "source": [
    "%%add_to ccm\n",
    "\n",
    "# get pairwise distances between vectors in X\n",
    "def get_distances(self, Mx):\n",
    "    \"\"\"\n",
    "    Args\n",
    "        Mx: The shadow manifold from X\n",
    "    Returns\n",
    "        t_steps: timesteps\n",
    "        dists: n x n matrix showing distances of each vector at t_step (rows) from other vectors (columns)\n",
    "    \"\"\"\n",
    "\n",
    "    # we extract the time indices and vectors from the manifold Mx\n",
    "    # we just want to be safe and convert the dictionary to a tuple (time, vector)\n",
    "    # to preserve the time inds when we separate them\n",
    "    t_vec = [(k, v) for k,v in Mx.items()]\n",
    "    t_steps = np.array([i[0] for i in t_vec])\n",
    "    vecs = np.array([i[1] for i in t_vec])\n",
    "    dists = distance.cdist(vecs, vecs)    \n",
    "    return t_steps, dists"
   ]
  },
  {
   "cell_type": "code",
   "execution_count": 5,
   "metadata": {},
   "outputs": [],
   "source": [
    "%%add_to ccm\n",
    "\n",
    "def get_nearest_distances(self, t, t_steps, dists):\n",
    "    \"\"\"\n",
    "    Args:\n",
    "        t: timestep of vector whose nearest neighbors we want to compute\n",
    "        t_teps: time steps of all vectors in Mx, output of get_distances()\n",
    "        dists: distance matrix showing distance of each vector (row) from other vectors (columns). output of get_distances()\n",
    "        E: embedding dimension of shadow manifold Mx \n",
    "    Returns:\n",
    "        nearest_timesteps: array of timesteps of E+1 vectors that are nearest to vector at time t\n",
    "        nearest_distances: array of distances corresponding to vectors closest to vector at time t\n",
    "    \"\"\"\n",
    "    t_ind = np.where(t_steps == t) # get the index of time t\n",
    "    dist_t = dists[t_ind].squeeze() # distances from vector at time t (this is one row)\n",
    "    \n",
    "    # get top closest vectors\n",
    "    nearest_inds = np.argsort(dist_t)[1:self.E+1 + 1] # get indices sorted, we exclude 0 which is distance from itself\n",
    "    nearest_timesteps = t_steps[nearest_inds] # index column-wise, t_steps are same column and row-wise \n",
    "    nearest_distances = dist_t[nearest_inds]  \n",
    "    \n",
    "    return nearest_timesteps, nearest_distances\n"
   ]
  },
  {
   "cell_type": "code",
   "execution_count": 6,
   "metadata": {},
   "outputs": [],
   "source": [
    "%%add_to ccm\n",
    "def predict(self, t):\n",
    "    \"\"\"\n",
    "    Args\n",
    "        t: timestep at Mx to predict Y at same time step\n",
    "    Returns\n",
    "        Y_true: the true value of Y at time t\n",
    "        Y_hat: the predicted value of Y at time t using Mx\n",
    "    \"\"\"\n",
    "    eps = 0.000001 # epsilon minimum distance possible\n",
    "    t_ind = np.where(self.t_steps == t) # get the index of time t\n",
    "    dist_t = self.dists[t_ind].squeeze() # distances from vector at time t (this is one row)    \n",
    "    nearest_timesteps, nearest_distances = self.get_nearest_distances(t, self.t_steps, self.dists)    \n",
    "    \n",
    "    # get weights\n",
    "    u = np.exp(-nearest_distances/np.max([eps, nearest_distances[0]])) # we divide by the closest distance to scale\n",
    "    w = u / np.sum(u)\n",
    "    \n",
    "    # get prediction of X\n",
    "    X_true = self.X[t] # get corresponding true X\n",
    "    X_cor = np.array(self.X)[nearest_timesteps] # get corresponding Y to cluster in Mx\n",
    "    X_hat = (w * X_cor).sum() # get X_hat\n",
    "    \n",
    "    return X_true, X_hat\n",
    "    \n",
    "    "
   ]
  },
  {
   "cell_type": "code",
   "execution_count": 7,
   "metadata": {},
   "outputs": [],
   "source": [
    "%%add_to ccm\n",
    "def causality(self):\n",
    "    '''\n",
    "    Args:\n",
    "        None\n",
    "    Returns:\n",
    "        correl: how much self.X causes self.Y. correlation between predicted Y and true Y\n",
    "    '''\n",
    "\n",
    "    # run over all timesteps in M\n",
    "    # X causes Y, we can predict X using My\n",
    "    # X puts some info into Y that we can use to reverse engineer X from Y        \n",
    "    X_true_list = []\n",
    "    X_hat_list = []\n",
    "\n",
    "    for t in list(self.My.keys()): # for each time step in My\n",
    "        X_true, X_hat = self.predict(t) # predict X from My\n",
    "        X_true_list.append(X_true)\n",
    "        X_hat_list.append(X_hat) \n",
    "\n",
    "    x, y = X_true_list, X_hat_list\n",
    "    r, p = pearsonr(x, y)        \n",
    "\n",
    "    return r, p\n"
   ]
  },
  {
   "cell_type": "markdown",
   "metadata": {},
   "source": [
    "### Functions for Visualizing"
   ]
  },
  {
   "cell_type": "code",
   "execution_count": 8,
   "metadata": {},
   "outputs": [],
   "source": [
    "%%add_to ccm\n",
    "\n",
    "def visualize_cross_mapping(self):\n",
    "    \"\"\"\n",
    "    Visualize the shadow manifolds and some cross mappings\n",
    "    \"\"\"\n",
    "    # we want to check cross mapping from Mx to My and My to Mx\n",
    "\n",
    "    f, axs = plt.subplots(1, 2, figsize=(12, 6))        \n",
    "    \n",
    "    for i, ax in zip((0, 1), axs): # i will be used in switching Mx and My in Cross Mapping visualization\n",
    "        #===============================================\n",
    "        # Shadow Manifolds Visualization\n",
    "\n",
    "        X_lag, Y_lag = [], []\n",
    "        for t in range(1, len(self.X)):\n",
    "            X_lag.append(X[t-tau])\n",
    "            Y_lag.append(Y[t-tau])    \n",
    "        X_t, Y_t = self.X[1:], self.Y[1:] # remove first value\n",
    "\n",
    "        ax.scatter(X_t, X_lag, s=5, label='$M_x$')\n",
    "        ax.scatter(Y_t, Y_lag, s=5, label='$M_y$', c='y')\n",
    "\n",
    "        #===============================================\n",
    "        # Cross Mapping Visualization\n",
    "\n",
    "        A, B = [(self.Y, self.X), (self.X, self.Y)][i]\n",
    "        cm_direction = ['My to Mx', 'Mx to My'][i]\n",
    "\n",
    "        Ma = self.shadow_manifold(A)\n",
    "        Mb = self.shadow_manifold(B)\n",
    "\n",
    "        t_steps_A, dists_A = self.get_distances(Ma) # for distances between points in manifold\n",
    "        t_steps_B, dists_B = self.get_distances(Mb) # for distances between points in manifold\n",
    "\n",
    "        # Plot cross mapping for different time steps\n",
    "        timesteps = list(Ma.keys())\n",
    "        for t in np.random.choice(timesteps, size=3, replace=False):\n",
    "            Ma_t = Ma[t]\n",
    "            near_t_A, near_d_A = self.get_nearest_distances(t, t_steps_A, dists_A)\n",
    "\n",
    "            for i in range(E+1):\n",
    "                # points on Ma\n",
    "                A_t = Ma[near_t_A[i]][0]\n",
    "                A_lag = Ma[near_t_A[i]][1]\n",
    "                ax.scatter(A_t, A_lag, c='b', marker='s')\n",
    "\n",
    "                # corresponding points on Mb\n",
    "                B_t = Mb[near_t_A[i]][0]\n",
    "                B_lag = Mb[near_t_A[i]][1]\n",
    "                ax.scatter(B_t, B_lag, c='r', marker='*', s=50)  \n",
    "\n",
    "                # connections\n",
    "                ax.plot([A_t, B_t], [A_lag, B_lag], c='r', linestyle=':') \n",
    "\n",
    "        ax.set_title(f'{cm_direction} cross mapping. time lag, tau = {tau}, E = 2')\n",
    "        ax.legend(prop={'size': 14})\n",
    "\n",
    "        ax.set_xlabel('$X_t$, $Y_t$', size=15)\n",
    "        ax.set_ylabel('$X_{t-1}$, $Y_{t-1}$', size=15)               \n",
    "    plt.show()       "
   ]
  },
  {
   "cell_type": "code",
   "execution_count": 9,
   "metadata": {},
   "outputs": [],
   "source": [
    "%%add_to ccm\n",
    "def plot_ccm_correls(self):\n",
    "    \"\"\"\n",
    "    Args\n",
    "        X: X time series\n",
    "        Y: Y time series\n",
    "        tau: time lag\n",
    "        E: shadow manifold embedding dimension\n",
    "        L: time duration\n",
    "    Returns\n",
    "        None. Just correlation plots\n",
    "    \"\"\"\n",
    "    M = self.shadow_manifold(self.Y) # shadow manifold\n",
    "    t_steps, dists = self.get_distances(M) # for distances\n",
    "\n",
    "    ccm_XY = ccm(X, Y, tau, E, L) # define new ccm object # Testing for X -> Y\n",
    "    ccm_YX = ccm(Y, X, tau, E, L) # define new ccm object # Testing for Y -> X\n",
    "\n",
    "    X_My_true, X_My_pred = [], [] # note pred X | My is equivalent to figuring out if X -> Y\n",
    "    Y_Mx_true, Y_Mx_pred = [], [] # note pred Y | Mx is equivalent to figuring out if Y -> X\n",
    "\n",
    "    for t in range(tau, L):\n",
    "        true, pred = ccm_XY.predict(t)\n",
    "        X_My_true.append(true)\n",
    "        X_My_pred.append(pred)    \n",
    "\n",
    "        true, pred = ccm_YX.predict(t)\n",
    "        Y_Mx_true.append(true)\n",
    "        Y_Mx_pred.append(pred)        \n",
    "\n",
    "    # # plot\n",
    "    figs, axs = plt.subplots(1, 2, figsize=(12, 5))\n",
    "    \n",
    "    # predicting X from My\n",
    "    r, p = np.round(pearsonr(X_My_true, X_My_pred), 4)\n",
    "    \n",
    "    axs[0].scatter(X_My_true, X_My_pred, s=10)\n",
    "    axs[0].set_xlabel('$X(t)$ (observed)', size=12)\n",
    "    axs[0].set_ylabel('$\\hat{X}(t)|M_y$ (estimated)', size=12)\n",
    "    axs[0].set_title(f'tau={tau}, E={E}, L={L}, Correlation coeff = {r}')\n",
    "\n",
    "    # predicting Y from Mx\n",
    "    r, p = np.round(pearsonr(Y_Mx_true, Y_Mx_pred), 4)\n",
    "    \n",
    "    axs[1].scatter(Y_Mx_true, Y_Mx_pred, s=10)\n",
    "    axs[1].set_xlabel('$Y(t)$ (observed)', size=12)\n",
    "    axs[1].set_ylabel('$\\hat{Y}(t)|M_x$ (estimated)', size=12)\n",
    "    axs[1].set_title(f'tau={tau}, E={E}, L={L}, Correlation coeff = {r}')\n",
    "    plt.show()\n"
   ]
  },
  {
   "cell_type": "markdown",
   "metadata": {},
   "source": [
    "## Application in a Sample Nonlinear System"
   ]
  },
  {
   "cell_type": "markdown",
   "metadata": {},
   "source": [
    "We show here a sample nonlinear system. Here, we explicitly defined $X$ to be influenced by $Y$ and vice versa. The effect of $X$ on $Y$ is a factor of $\\beta_{y,x}$ and the effect of $Y$ on $X$ is a factor of $\\beta_{x,y}$. One way to read $\\beta_{y,x}$: \"the influence of $x$ on $y$\". $r_x$ and $r_y$ are some constants that affect how chaotic the system is. As we increase $r$ say $r > 3.5$ we get more unpredictable (\"chaotic\") behavior.\n",
    "\n",
    "$X(t+1)=X(t)[r_x-r_xX_t-\\beta_{x,y}Y(t)]$\n",
    "<br>$Y(t+1)=Y(t)[r_y-r_yY_t-\\beta_{y,x}X(t)]$\n",
    "\n",
    "Key questions to keep in mind are:\n",
    "* Can we detect the causality or interaction between these two variables by looking at the correlation between them?\n",
    "* Can convergent cross mapping help us find this out?"
   ]
  },
  {
   "cell_type": "code",
   "execution_count": 10,
   "metadata": {},
   "outputs": [],
   "source": [
    "def func_1(A, B, r, beta):\n",
    "    return A * (r - r * A - beta * B)"
   ]
  },
  {
   "cell_type": "code",
   "execution_count": 11,
   "metadata": {},
   "outputs": [],
   "source": [
    "# params\n",
    "r_x = 3.8\n",
    "r_y = 3.5\n",
    "B_xy = 0.02 # effect on x given y (effect of y on x)\n",
    "B_yx = 0.1 # effect on y given x (effect of x on y)\n",
    "\n",
    "X0 = 0.4 # initial val\n",
    "Y0 = 0.2 # initial val\n",
    "t = 5000 # time steps\n",
    "\n",
    "X = [X0]\n",
    "Y = [Y0]\n",
    "for i in range(t):\n",
    "    X_ = func_1(X[-1], Y[-1], r_x, B_xy)\n",
    "    Y_ = func_1(Y[-1], X[-1], r_y, B_yx)    \n",
    "    X.append(X_)\n",
    "    Y.append(Y_)        "
   ]
  },
  {
   "cell_type": "code",
   "execution_count": 12,
   "metadata": {},
   "outputs": [
    {
     "data": {
      "text/plain": [
       "<matplotlib.legend.Legend at 0x7f182fe15310>"
      ]
     },
     "execution_count": 12,
     "metadata": {},
     "output_type": "execute_result"
    },
    {
     "data": {
      "image/png": "[encoded data removed]",
      "text/plain": [
       "<Figure size 1080x144 with 1 Axes>"
      ]
     },
     "metadata": {
      "needs_background": "light"
     },
     "output_type": "display_data"
    }
   ],
   "source": [
    "plt.figure(figsize=(15,2))\n",
    "max_t = 100\n",
    "plt.plot(X[:max_t], linewidth=1.25, label='X')\n",
    "plt.plot(Y[:max_t], linewidth=1.25, label='Y')\n",
    "plt.xlabel('timestep', size=12)\n",
    "plt.ylabel('value of X or Y', size=12)\n",
    "plt.legend(prop={'size': 16})"
   ]
  },
  {
   "cell_type": "code",
   "execution_count": 13,
   "metadata": {},
   "outputs": [
    {
     "data": {
      "image/png": "[encoded data removed]",
      "text/plain": [
       "<Figure size 432x288 with 1 Axes>"
      ]
     },
     "metadata": {
      "needs_background": "light"
     },
     "output_type": "display_data"
    },
    {
     "data": {
      "text/plain": [
       "(0.005395539983091772, 0.8646878689811068)"
      ]
     },
     "execution_count": 13,
     "metadata": {},
     "output_type": "execute_result"
    }
   ],
   "source": [
    "# correlations in the first 1000 time steps\n",
    "max_t = 1000\n",
    "x, y = X[:max_t], Y[:max_t]\n",
    "plt.scatter(x, y, s=5)\n",
    "plt.xlabel('X(t)', size=12)\n",
    "plt.ylabel('Y(t)', size=12)\n",
    "plt.show()\n",
    "r, p = pearsonr(x, y)\n",
    "r, p"
   ]
  },
  {
   "cell_type": "markdown",
   "metadata": {},
   "source": [
    "**Discussion**\n",
    "\n",
    "* Though we explicitly defined $Y$ to be a function of $X$ ($X$ influences $Y$), we find no correlation between them in the long term. \n",
    "* It's hard to conclude the relationship between $X$ and $Y$ (e.g. whether or not $X$ influences $Y$ or vice versa) based on the correlation plot and correlation value."
   ]
  },
  {
   "cell_type": "markdown",
   "metadata": {},
   "source": [
    "#### Can CCM predict causality in our test system?"
   ]
  },
  {
   "cell_type": "code",
   "execution_count": 14,
   "metadata": {},
   "outputs": [
    {
     "data": {
      "image/png": "[encoded data removed]",
      "text/plain": [
       "<Figure size 864x432 with 2 Axes>"
      ]
     },
     "metadata": {
      "needs_background": "light"
     },
     "output_type": "display_data"
    }
   ],
   "source": [
    "# Visualize simple shadow manifolds Mx and My for different tau\n",
    "# We visualize Cross-Mapping\n",
    "\n",
    "np.random.seed(1) # we fix the seed when randomly choosing cross mapping points\n",
    "tau = 1 # time lag\n",
    "E = 2 # shadow manifold embedding dimensions\n",
    "L = 500 # length of time period to consider\n",
    "\n",
    "ccm1 = ccm(X, Y, tau, E, L)\n",
    "ccm1.visualize_cross_mapping()"
   ]
  },
  {
   "cell_type": "markdown",
   "metadata": {},
   "source": [
    "**Discussion**\n",
    "\n",
    "* In the shadow manifolds above, we show the cross mapping of points from one manifold (blue box) to the corresponding points on the other manifold (red star)\n",
    "* If values from one manifold e.g. $M_x$ make a spread out cross mapping to values on another manifold e.g. $M_y$, this means that we are not able to precisely predict $M_y$ or $Y$ given $M_x$. This implies that not much information from $Y$ is transferred to $X$ to make highly precise predictions. In other words, $Y$ may drive $X$ but not by much.\n",
    "* The stronger the causality between variables, the more narrow the cross mapping is more narrow, e.g. cross mapping $M_x$ from $M_y$ (left chart) has a relatively narrow cross mapping which may imply that $X$ influences $Y$. \n",
    "* While narrow cross convergence may indicate causality, this is just one of two criteria to conclude causality. We also need to satisfy convergence which we will discuss next."
   ]
  },
  {
   "cell_type": "code",
   "execution_count": 15,
   "metadata": {},
   "outputs": [
    {
     "data": {
      "image/png": "[encoded data removed]",
      "text/plain": [
       "<Figure size 864x360 with 2 Axes>"
      ]
     },
     "metadata": {
      "needs_background": "light"
     },
     "output_type": "display_data"
    }
   ],
   "source": [
    "# let us plot the performance of the cross mapping predictions using correlation\n",
    "L = 3000\n",
    "tau = 1\n",
    "E = 2\n",
    "ccm1.plot_ccm_correls()"
   ]
  },
  {
   "cell_type": "markdown",
   "metadata": {},
   "source": [
    "**Discussion**\n",
    "* We measure cross mapping using correlation. A stronger correlation is one indicator of stronger causality. \n",
    "* The left chart shows the performance of the cross mapping from $M_y$ to $M_x$ to predict $X(t)$. This means we can predict $X$ given $Y$ which happens if $Y$ has enough information about $X$. We say that $X$ strongly influences or causes $Y$. Remember the intuition that if $X$ causes $Y$, then information from $X$ gets transferred to $Y$.\n",
    "* We have shown cross-mapping in both directions though one direction is stronger."
   ]
  },
  {
   "cell_type": "code",
   "execution_count": 16,
   "metadata": {},
   "outputs": [
    {
     "data": {
      "text/plain": [
       "<matplotlib.legend.Legend at 0x7f182ecc08e0>"
      ]
     },
     "execution_count": 16,
     "metadata": {},
     "output_type": "execute_result"
    },
    {
     "data": {
      "image/png": "[encoded data removed]",
      "text/plain": [
       "<Figure size 360x360 with 1 Axes>"
      ]
     },
     "metadata": {
      "needs_background": "light"
     },
     "output_type": "display_data"
    }
   ],
   "source": [
    "# Looking at \"convergence\"\n",
    "L_range = range(50, 3200, 200) # L values to test\n",
    "tau = 1\n",
    "E = 2\n",
    "\n",
    "Xhat_My, Yhat_Mx = [], [] # correlation list\n",
    "for L in L_range: \n",
    "    ccm_XY = ccm(X, Y, tau, E, L) # define new ccm object # Testing for X -> Y\n",
    "    ccm_YX = ccm(Y, X, tau, E, L) # define new ccm object # Testing for Y -> X    \n",
    "    Xhat_My.append(ccm_XY.causality()[0]) \n",
    "    Yhat_Mx.append(ccm_YX.causality()[0]) \n",
    "    \n",
    "# plot convergence as L->inf. Convergence is necessary to conclude causality\n",
    "plt.figure(figsize=(5,5))\n",
    "plt.plot(L_range, Xhat_My, label='$\\hat{X}(t)|M_y$')\n",
    "plt.plot(L_range, Yhat_Mx, label='$\\hat{Y}(t)|M_x$')\n",
    "plt.xlabel('L', size=12)\n",
    "plt.ylabel('correl', size=12)\n",
    "plt.legend(prop={'size': 16})    "
   ]
  },
  {
   "cell_type": "markdown",
   "metadata": {},
   "source": [
    "**Discussion**\n",
    "* Convergence means we are able to improve cross mapping accuracy the longer the period $L$ we consider. To recap, this happens only when we are able to enhance our reconstruction of the shared attractor between two variables using more data.\n",
    "* In the plot above, we find that both cross mappings converge, however one converges more than the other. We have satisfied the two criteria for CCM: convergence and cross mapping. We can thus say causality exists. However, the magnitudes of causality going from one direction or the other are different. \n",
    "* What can we conclude from this plot about the interactions between $X$ and $Y$?\n",
    "* Which variable has more influence on the other?"
   ]
  },
  {
   "cell_type": "markdown",
   "metadata": {},
   "source": [
    "### How Betas Affect Causality As Indicated By Convergence"
   ]
  },
  {
   "cell_type": "code",
   "execution_count": null,
   "metadata": {
    "scrolled": true
   },
   "outputs": [],
   "source": [
    "# Checking convergence for various betas\n",
    "# params\n",
    "X0 = 0.4 # initial val\n",
    "Y0 = 0.4 # initial val\n",
    "t = 400 # time steps for the dataset\n",
    "L = 400 # time steps for computing CCM\n",
    "E = 2 # embedding dimensions\n",
    "\n",
    "range_ = list(np.arange(0, 0.41, 0.02)) # B ranges\n",
    "correl_diffs = np.zeros(shape=(len(range_), len(range_))) # correlation list\n",
    "np.random.seed(42)\n",
    "\n",
    "for ind_B_xy in range(len(range_)): # effect on x given y (effect of y on x)\n",
    "    for ind_B_yx in range(len(range_)): # effect on y given x (effect of x on y)\n",
    "        \n",
    "        r_x = np.random.choice(np.arange(3.6, 4.1, 0.01)) # paper implies random sampling\n",
    "        r_y = np.random.choice(np.arange(3.6, 4.1, 0.01)) # paper implies random sampling\n",
    "\n",
    "        B_xy = range_[ind_B_xy]\n",
    "        B_yx = range_[ind_B_yx]\n",
    "        \n",
    "        # initialize dataset\n",
    "        X, Y = [X0], [Y0]\n",
    "        for i in range(t):\n",
    "            X_ = func_1(X[-1], Y[-1], r_x, B_xy)\n",
    "            Y_ = func_1(Y[-1], X[-1], r_y, B_yx)    \n",
    "            X.append(X_)\n",
    "            Y.append(Y_)\n",
    "\n",
    "        # there are some combinations that throw an error\n",
    "        # couldn't find the cause but to be fair, Sugihara et al also had \"holes\" in their chart\n",
    "        try:\n",
    "            # Testing for X -> Y\n",
    "            ccm_XY = ccm(X, Y, tau, E, L) # define new ccm object\n",
    "            correl_xy = ccm_XY.causality()[0]          \n",
    "\n",
    "            # Testing for Y -> X\n",
    "            ccm_YX = ccm(Y, X, tau, E, L) # define new ccm object\n",
    "            correl_yx = ccm_YX.causality()[0]\n",
    "\n",
    "            # get diffs \n",
    "            correl_diffs[ind_B_yx][ind_B_xy] = correl_yx - correl_xy # (y -> x) - (x-> y)\n",
    "        except:\n",
    "            continue"
   ]
  },
  {
   "cell_type": "code",
   "execution_count": null,
   "metadata": {},
   "outputs": [],
   "source": [
    "plt.figure(figsize=(5, 5))\n",
    "plt.matshow(np.nan_to_num(correl_diffs), origin='lower', cmap='jet', fignum=1)\n",
    "plt.xlabel('Beta_x_y', size=12)\n",
    "plt.ylabel('Beta_y_x', size=12)\n",
    "plt.title('$correl(\\hat{Y}(t)|M_x) - correl(\\hat{X}(t)|M_y$)', size=14)\n",
    "# plt.xticks(range(len(range_)), np.round(range_, 2), rotation=90)\n",
    "plt.yticks(range(len(range_)), np.round(range_, 2))\n",
    "plt.colorbar()\n",
    "plt.tight_layout()\n",
    "plt.show()"
   ]
  },
  {
   "cell_type": "markdown",
   "metadata": {},
   "source": [
    "**Discussion**\n",
    "\n",
    "The chart above shows the difference in predictive performance $\\rho(\\hat{Y}|M_x) - \\rho(\\hat{X}|M_y)$ for different $\\beta_{y,x}$ and $\\beta_{x,y}$. Remember that $\\beta_{y,x}$ is how much $X$ influences $Y$ and that a higher score $\\rho(\\hat{X}|M_y)$ means we are able to predict $X$ better from $Y$ indicating that much of information from $X$ gets stored in $Y$ or in other words, $X$ causes $Y$. Note that the \"spots\" in the chart can be due to our randomization of the value of $r_x$ and $r_y$ in each iteration. (We followed the method of randomizing $r$ as implied in the supplemental materials in Sugihara et al's paper. Their chart also has spots.)\n",
    "\n",
    "* Based on the plot, as $\\beta_{y,x}$ increases, what happens to our predicted $\\hat{Y}|M_x$ and $\\hat{X}|M_y$?\n",
    "* Do the results align with our intuition that higher $\\beta_{y,x}$ means higher effect of $X$ on $Y$?"
   ]
  },
  {
   "cell_type": "markdown",
   "metadata": {},
   "source": [
    "### What if asymmetrically coupled (the effect is only in one direction)?\n",
    "\n",
    "Let us define our system as\n",
    "\n",
    "$X(t+1)=X(t)[3.7-3.7X_t-0Y(t)]$\n",
    "<br>$Y(t+1)=Y(t)[3.7-3.7Y_t-0.32X(t)]$\n",
    "\n",
    "Are we convinced that this system has causality in one direction only?"
   ]
  },
  {
   "cell_type": "code",
   "execution_count": null,
   "metadata": {},
   "outputs": [],
   "source": [
    "# Initialize test dataset\n",
    "# params\n",
    "r_x = 3.7\n",
    "r_y = 3.7\n",
    "B_xy = 0 # effect on x given y (effect of y on x)\n",
    "B_yx = 0.32 # effect on y given x (effect of x on y)\n",
    "\n",
    "X0 = 0.2 # initial val following Sugihara et al\n",
    "Y0 = 0.4 # initial val following Sugihara et al\n",
    "t = 3000 # time steps\n",
    "\n",
    "X = [X0]\n",
    "Y = [Y0]\n",
    "for i in range(t):\n",
    "    X_ = func_1(X[-1], Y[-1], r_x, B_xy)\n",
    "    Y_ = func_1(Y[-1], X[-1], r_y, B_yx)    \n",
    "    X.append(X_)\n",
    "    Y.append(Y_)        "
   ]
  },
  {
   "cell_type": "code",
   "execution_count": null,
   "metadata": {},
   "outputs": [],
   "source": [
    "plt.figure(figsize=(15,2))\n",
    "max_t = 100\n",
    "plt.plot(X[:max_t], linewidth=1.25, label='X')\n",
    "plt.plot(Y[:max_t], linewidth=1.25, label='Y')\n",
    "plt.xlabel('timestep', size=12)\n",
    "plt.ylabel('value of X or Y', size=12)\n",
    "plt.legend(prop={'size': 16})"
   ]
  },
  {
   "cell_type": "code",
   "execution_count": null,
   "metadata": {},
   "outputs": [],
   "source": [
    "# correlations in the first 1000 time steps\n",
    "max_t = 1000\n",
    "x, y = X[:max_t], Y[:max_t]\n",
    "plt.scatter(x, y, s=5)\n",
    "plt.xlabel('X(t)', size=12)\n",
    "plt.ylabel('Y(t)', size=12)\n",
    "plt.show()\n",
    "# np.corrcoef(x, y)[0][1]\n",
    "r, p = pearsonr(x, y)\n",
    "r, p"
   ]
  },
  {
   "cell_type": "code",
   "execution_count": null,
   "metadata": {},
   "outputs": [],
   "source": [
    "# Visualize simple shadow manifolds Mx and My for different tau\n",
    "# We visualize Cross-Mapping\n",
    "\n",
    "np.random.seed(42) # we fix the seed when randomly choosing cross mapping points\n",
    "tau = 1 # time lag\n",
    "E = 2 # shadow manifold embedding dimensions\n",
    "L = 500 # length of time period to consider\n",
    "\n",
    "ccm1 = ccm(X, Y, tau, E, L)\n",
    "ccm1.visualize_cross_mapping()"
   ]
  },
  {
   "cell_type": "markdown",
   "metadata": {},
   "source": [
    "**Discussion**\n",
    "* What can you observe about the cross mappings between the two manifolds in this system? Remember that the direction of cross mapping is from the blue squares to the red stars\n",
    "* Is this something that we expected?"
   ]
  },
  {
   "cell_type": "code",
   "execution_count": null,
   "metadata": {},
   "outputs": [],
   "source": [
    "# let us plot the performance of the cross mapping predictions using correlation\n",
    "L = 3000\n",
    "tau = 1\n",
    "E = 2\n",
    "ccm1.plot_ccm_correls()"
   ]
  },
  {
   "cell_type": "code",
   "execution_count": null,
   "metadata": {},
   "outputs": [],
   "source": [
    "# Looking at \"convergence\"\n",
    "L_range = range(20, 3000, 100) # L values to test\n",
    "tau = 1\n",
    "E = 2\n",
    "\n",
    "Xhat_My, Yhat_Mx = [], [] # correlation list\n",
    "for L in L_range: \n",
    "    ccm_XY = ccm(X, Y, tau, E, L) # define new ccm object # Testing for X -> Y\n",
    "    ccm_YX = ccm(Y, X, tau, E, L) # define new ccm object # Testing for Y -> X    \n",
    "    Xhat_My.append(ccm_XY.causality()[0]) \n",
    "    Yhat_Mx.append(ccm_YX.causality()[0]) \n",
    "    \n",
    "# plot convergence as L->inf. Convergence is necessary to conclude causality\n",
    "plt.figure(figsize=(5,5))\n",
    "plt.plot(L_range, Xhat_My, label='$\\hat{X}(t)|M_y$')\n",
    "plt.plot(L_range, Yhat_Mx, label='$\\hat{Y}(t)|M_x$')\n",
    "plt.xlabel('L', size=12)\n",
    "plt.ylabel('correl', size=12)\n",
    "plt.legend(prop={'size': 16})   \n",
    "\n",
    "print('X->Y r', np.round(Xhat_My[-1], 2), 'p value', np.round(ccm_XY.causality()[1], 2))\n",
    "print('Y->X r', np.round(Yhat_Mx[-1], 2), 'p value', np.round(ccm_YX.causality()[1], 2))"
   ]
  },
  {
   "cell_type": "markdown",
   "metadata": {},
   "source": [
    "**Discussion**\n",
    "* How do we interpret these charts in the context of determining causality using the CCM framework? \n",
    "* Are the results here expected? "
   ]
  },
  {
   "cell_type": "markdown",
   "metadata": {},
   "source": [
    "### Effect of \"Strong Forcing\"\n",
    "What happens to the result of CCM when $X$ has very strong effects on $Y$ yet $Y$ has 0 effect on $X$?\n",
    "\n",
    "$X(t+1)=X(t)[3.7-3.7X_t-0Y(t)]$\n",
    "<br>$Y(t+1)=Y(t)[3.7-3.7Y_t- \\beta_{yx} X(t)] \\text{ where } \\beta_{yx} \\text{is large}$"
   ]
  },
  {
   "cell_type": "code",
   "execution_count": null,
   "metadata": {},
   "outputs": [],
   "source": [
    "# Initialize test dataset\n",
    "# params\n",
    "\n",
    "# values for B_yx\n",
    "# we query an array using B_yx_dict[B_yx value][X or Y]\n",
    "B_yx_dict = {np.round(k, 2):{'X':[], 'Y':[]} for k in np.arange(0, 1.6, 0.2)}\n",
    "\n",
    "r_x = 3.7\n",
    "r_y = 3.7\n",
    "\n",
    "X0 = 0.2 # initial val following Sugihara et al\n",
    "Y0 = 0.4 # initial val following Sugihara et al\n",
    "t = 2000 # time steps\n",
    "\n",
    "for k in B_yx_dict.keys():    \n",
    "    B_xy = 0 # effect on x given y (effect of y on x)\n",
    "    B_yx = k # effect on y given x (effect of x on y)    \n",
    "    \n",
    "    X = [X0]\n",
    "    Y = [Y0]\n",
    "    for i in range(t):\n",
    "        X_ = func_1(X[-1], Y[-1], r_x, B_xy)\n",
    "        Y_ = func_1(Y[-1], X[-1], r_y, B_yx)    \n",
    "        X.append(X_)\n",
    "        Y.append(Y_) \n",
    "    B_yx_dict[k]['X'] += X\n",
    "    B_yx_dict[k]['Y'] += Y\n",
    "\n"
   ]
  },
  {
   "cell_type": "code",
   "execution_count": null,
   "metadata": {},
   "outputs": [],
   "source": [
    "# Looking at \"convergence\" for different B_yx values\n",
    "L_range = range(100, 1000, 100) # L values to test\n",
    "tau = 1\n",
    "E = 2\n",
    "\n",
    "B_yx_list = []\n",
    "L_list = []\n",
    "Yhat_Mx_list = []\n",
    "Xhat_My_list = []\n",
    "\n",
    "\n",
    "for B_yx in B_yx_dict.keys():\n",
    "    X = B_yx_dict[B_yx]['X']\n",
    "    Y = B_yx_dict[B_yx]['Y']    \n",
    "\n",
    "    for L in L_range: \n",
    "        ccm_XY = ccm(X, Y, tau, E, L) # define new ccm object # Testing for X -> Y\n",
    "        ccm_YX = ccm(Y, X, tau, E, L) # define new ccm object # Testing for Y -> X    \n",
    "        \n",
    "        B_yx_list.append(B_yx)\n",
    "        L_list.append(L)\n",
    "        Xhat_My_list.append(ccm_XY.causality()[0]) # wont be used        \n",
    "        Yhat_Mx_list.append(ccm_YX.causality()[0])"
   ]
  },
  {
   "cell_type": "code",
   "execution_count": null,
   "metadata": {},
   "outputs": [],
   "source": [
    "from mpl_toolkits.mplot3d import Axes3D\n",
    "fig = plt.figure(figsize=(6, 4))\n",
    "ax = fig.add_subplot(111, projection='3d')\n",
    "\n",
    "x = np.array(L_list)\n",
    "y = np.array(B_yx_list)\n",
    "z = np.array(Yhat_Mx_list)\n",
    "\n",
    "ax.plot_trisurf(x, y, z, cmap='jet', antialiased=True)\n",
    "ax.set_xlabel('L', size=14)\n",
    "ax.set_ylabel('$B_{yx}$', size=14)\n",
    "ax.set_zlabel('correl $\\hat{Y}|M_x$', size=16)\n",
    "ax.set_zlim(0, 1)\n",
    "plt.tight_layout()\n"
   ]
  },
  {
   "cell_type": "markdown",
   "metadata": {},
   "source": [
    "**Discussion**\n",
    "* Remember that if $Y$ causes $X$, information from $Y$ is embedded in $X$ and we should be able to predict $Y$ given the shadow manifold $M_x$.\n",
    "* We find that despite $Y$ having no influence on $X$, CCM gives a high cross mapping performance if the influence of $X$ on $Y$, $\\beta_{yx}$ is very high. This is what we call \"strong forcing.\" An intuition here is if the effect of $X$ on $Y$ is too high, $Y$ tends to look a lot likt $X$ and thus $M_x$ becomes easier to cross map to $M_y$, which shouldn't be the case. We can thus be misled to think bidirectional causality exists when it doesn't.\n",
    "* What are the implications when using CCM to infer causality?"
   ]
  },
  {
   "cell_type": "markdown",
   "metadata": {},
   "source": [
    "## Application in Real World Systems\n",
    "Here, we apply CCM on real world systems to infer relationships between variables."
   ]
  },
  {
   "cell_type": "code",
   "execution_count": null,
   "metadata": {},
   "outputs": [],
   "source": [
    "def make_plots(df, dt_name, val1_name, val2_name):\n",
    "    # drop nulls\n",
    "    df = df[[dt_name, val1_name, val2_name]].dropna()\n",
    "    \n",
    "    # plot\n",
    "    f, ax = plt.subplots(figsize=(15, 2))\n",
    "    df.plot(x=dt_name, y=val1_name, label=None, ax=ax)\n",
    "    ax.set_ylabel(val1_name)\n",
    "    ax2 = ax.twinx()\n",
    "    df.plot(x=dt_name, y=val2_name, label=None, ax=ax2, c='orange')\n",
    "    ax2.set_ylabel(val2_name)    \n",
    "#     ax.figure.legend()        \n",
    "    plt.title(f\"{val1_name} and {val2_name}, correlation coefficient: {r}\")\n",
    "    plt.tight_layout()\n",
    "    plt.show()"
   ]
  },
  {
   "cell_type": "markdown",
   "metadata": {},
   "source": [
    "### Nicolas Cage Films and Number of Drowned Victims in the US\n",
    "We check how much the number of drowned victims in the US affect the number of Nicolas Cage Films for the year and vice versa. Do we expect these two to be causally linked?"
   ]
  },
  {
   "cell_type": "code",
   "execution_count": null,
   "metadata": {},
   "outputs": [],
   "source": [
    "df = pd.read_csv('../data/cage_drowning.csv')\n",
    "df['year'] = range(1999, 2010)\n",
    "make_plots(df, 'year', 'num.drowned', 'num.cage.films')"
   ]
  },
  {
   "cell_type": "code",
   "execution_count": null,
   "metadata": {},
   "outputs": [],
   "source": [
    "# Visualize simple shadow manifolds Mx and My for different tau\n",
    "# We visualize Cross-Mapping\n",
    "\n",
    "np.random.seed(1) # we fix the seed when randomly choosing cross mapping points\n",
    "tau = 1 # time lag\n",
    "E = 2 # shadow manifold embedding dimensions\n",
    "L = df.shape[0] # length of time period to consider\n",
    "\n",
    "Y = df['num.cage.films'].values\n",
    "X = df['num.drowned'].values\n",
    "\n",
    "# Looking at \"convergence\"\n",
    "L_range = range(3, L+1, 1) # L values to test\n",
    "Xhat_My, Yhat_Mx = [], [] # correlation list\n",
    "for L in L_range: \n",
    "    ccm_XY = ccm(X, Y, tau, E, L) # define new ccm object # Testing for X -> Y\n",
    "    ccm_YX = ccm(Y, X, tau, E, L) # define new ccm object # Testing for Y -> X    \n",
    "    Xhat_My.append(ccm_XY.causality()[0]) \n",
    "    Yhat_Mx.append(ccm_YX.causality()[0])    \n",
    "    \n",
    "# plot convergence as L->inf. Convergence is necessary to conclude causality\n",
    "plt.figure(figsize=(5,5))\n",
    "plt.plot(L_range, Xhat_My, label='$\\hat{X}(t)|M_y$')\n",
    "plt.plot(L_range, Yhat_Mx, label='$\\hat{Y}(t)|M_x$')\n",
    "plt.xlabel('L', size=12)\n",
    "plt.ylabel('correl', size=12)\n",
    "plt.legend(prop={'size': 16})  \n",
    "\n",
    "print('X(drowning)-> Y(Cage films) r', np.round(Xhat_My[-1], 2), 'p value', np.round(ccm_XY.causality()[1], 2))\n",
    "print('Y(Cage films)->X(drowning) r', np.round(Yhat_Mx[-1], 2), 'p value', np.round(ccm_YX.causality()[1], 2))"
   ]
  },
  {
   "cell_type": "markdown",
   "metadata": {},
   "source": [
    "**Discussion**\n",
    "\n",
    "Although for time period up to 7, it might look like there is convergence as shown by improvement in crossmapping correlation, proceeding further results in drop in convergence. We conclude that these two variables are not causally linked."
   ]
  },
  {
   "cell_type": "markdown",
   "metadata": {},
   "source": [
    "### Dam System\n",
    "\n",
    "We then look at two dam systems in the Philippines: Angat Dam and Ipo Dam as well as rainfall and irrigation water flow rate (NIA)."
   ]
  },
  {
   "cell_type": "markdown",
   "metadata": {},
   "source": [
    "#### Angat Dam vs Rain"
   ]
  },
  {
   "cell_type": "code",
   "execution_count": null,
   "metadata": {},
   "outputs": [],
   "source": [
    "# Num Angat Dam Level vs NIA (what is NIA?)\n",
    "df = pd.read_csv('../data/Angat_dataset.csv')\n",
    "make_plots(df, 'Time', 'Dam', 'Rain')"
   ]
  },
  {
   "cell_type": "code",
   "execution_count": null,
   "metadata": {},
   "outputs": [],
   "source": [
    "# Visualize simple shadow manifolds Mx and My for different tau\n",
    "# We visualize Cross-Mapping\n",
    "\n",
    "np.random.seed(1) # we fix the seed when randomly choosing cross mapping points\n",
    "tau = 1 # time lag\n",
    "E = 2 # shadow manifold embedding dimensions\n",
    "L = df.shape[0] # length of time period to consider\n",
    "\n",
    "Y = df['Dam'].values\n",
    "X = df['Rain'].values\n",
    "\n",
    "# Looking at \"convergence\"\n",
    "L_range = range(100, L+1, 100) # L values to test\n",
    "Xhat_My, Yhat_Mx = [], [] # correlation list\n",
    "for L in L_range: \n",
    "    ccm_XY = ccm(X, Y, tau, E, L) # define new ccm object # Testing for X -> Y\n",
    "    ccm_YX = ccm(Y, X, tau, E, L) # define new ccm object # Testing for Y -> X    \n",
    "    Xhat_My.append(ccm_XY.causality()[0]) \n",
    "    Yhat_Mx.append(ccm_YX.causality()[0])    \n",
    "    \n",
    "# plot convergence as L->inf. Convergence is necessary to conclude causality\n",
    "plt.figure(figsize=(5,5))\n",
    "plt.plot(L_range, Xhat_My, label='$\\hat{X}(t)|M_y$')\n",
    "plt.plot(L_range, Yhat_Mx, label='$\\hat{Y}(t)|M_x$')\n",
    "plt.xlabel('L', size=12)\n",
    "plt.ylabel('correl', size=12)\n",
    "plt.legend(prop={'size': 16})   \n",
    "\n",
    "print('Amount of Rainfall->Dam water level r', np.round(Xhat_My[-1], 2), 'p value', np.round(ccm_XY.causality()[1], 4))\n",
    "print('Dam water level->Amount of Rainfall r', np.round(Yhat_Mx[-1], 2), 'p value', np.round(ccm_YX.causality()[1], 4))\n"
   ]
  },
  {
   "cell_type": "markdown",
   "metadata": {},
   "source": [
    "**Discussion**\n",
    "\n",
    "Rain's effect on dam levels shows some convergence as we increase the time period $L$. However, convergence is not clear on the effect of dam level on rain."
   ]
  },
  {
   "cell_type": "markdown",
   "metadata": {},
   "source": [
    "#### Angat Dam vs NIA"
   ]
  },
  {
   "cell_type": "code",
   "execution_count": null,
   "metadata": {},
   "outputs": [],
   "source": [
    "# Num Angat Dam Level vs NIA water level data (National Irrigation Administration)\n",
    "df = pd.read_csv('../data/Angat_dataset.csv')\n",
    "make_plots(df, 'Time', 'Dam', 'NIA')"
   ]
  },
  {
   "cell_type": "code",
   "execution_count": null,
   "metadata": {},
   "outputs": [],
   "source": [
    "# Visualize simple shadow manifolds Mx and My for different tau\n",
    "# We visualize Cross-Mapping\n",
    "\n",
    "np.random.seed(1) # we fix the seed when randomly choosing cross mapping points\n",
    "tau = 1 # time lag\n",
    "E = 2 # shadow manifold embedding dimensions\n",
    "L = df.shape[0] # length of time period to consider\n",
    "\n",
    "Y = df['Dam'].values\n",
    "X = df['NIA'].values\n",
    "\n",
    "# Looking at \"convergence\"\n",
    "L_range = range(100, L+1, 100) # L values to test\n",
    "Xhat_My, Yhat_Mx = [], [] # correlation list\n",
    "for L in L_range: \n",
    "    ccm_XY = ccm(X, Y, tau, E, L) # define new ccm object # Testing for X -> Y\n",
    "    ccm_YX = ccm(Y, X, tau, E, L) # define new ccm object # Testing for Y -> X    \n",
    "    Xhat_My.append(ccm_XY.causality()[0]) \n",
    "    Yhat_Mx.append(ccm_YX.causality()[0])    \n",
    "    \n",
    "# plot convergence as L->inf. Convergence is necessary to conclude causality\n",
    "plt.figure(figsize=(5,5))\n",
    "plt.plot(L_range, Xhat_My, label='$\\hat{X}(t)|M_y$')\n",
    "plt.plot(L_range, Yhat_Mx, label='$\\hat{Y}(t)|M_x$')\n",
    "plt.xlabel('L', size=12)\n",
    "plt.ylabel('correl', size=12)\n",
    "plt.legend(prop={'size': 16}) \n",
    "\n",
    "print('Irrigation water level->Dam water level r', np.round(Xhat_My[-1], 2), 'p value', np.round(ccm_XY.causality()[1], 2))\n",
    "print('Dam water level->Irrigation water level r', np.round(Yhat_Mx[-1], 2), 'p value', np.round(ccm_YX.causality()[1], 2))"
   ]
  },
  {
   "cell_type": "markdown",
   "metadata": {},
   "source": [
    "**Discussion**\n",
    "\n",
    "Convergence is cleaner for the effect of irrigation water flow on Dam level. However there is still a rather noisy convergence for the effect of dam level on irrigation water flow."
   ]
  },
  {
   "cell_type": "markdown",
   "metadata": {},
   "source": [
    "#### Ipo Dam vs Rain"
   ]
  },
  {
   "cell_type": "code",
   "execution_count": null,
   "metadata": {},
   "outputs": [],
   "source": [
    "# Num Ipo Dam Level vs Rain\n",
    "df = pd.read_csv('../data/Ipo_dataset.csv')\n",
    "make_plots(df, 'Time', 'Dam', 'Rain')"
   ]
  },
  {
   "cell_type": "code",
   "execution_count": null,
   "metadata": {},
   "outputs": [],
   "source": [
    "# Visualize simple shadow manifolds Mx and My for different tau\n",
    "# We visualize Cross-Mapping\n",
    "\n",
    "np.random.seed(1) # we fix the seed when randomly choosing cross mapping points\n",
    "tau = 1 # time lag\n",
    "E = 2 # shadow manifold embedding dimensions\n",
    "L = df.shape[0] # length of time period to consider\n",
    "\n",
    "Y = df['Dam'].values\n",
    "X = df['Rain'].values\n",
    "\n",
    "# Looking at \"convergence\"\n",
    "L_range = range(100, L+1, 100) # L values to test\n",
    "Xhat_My, Yhat_Mx = [], [] # correlation list\n",
    "for L in L_range: \n",
    "    ccm_XY = ccm(X, Y, tau, E, L) # define new ccm object # Testing for X -> Y\n",
    "    ccm_YX = ccm(Y, X, tau, E, L) # define new ccm object # Testing for Y -> X    \n",
    "    Xhat_My.append(ccm_XY.causality()[0]) \n",
    "    Yhat_Mx.append(ccm_YX.causality()[0])    \n",
    "    \n",
    "# plot convergence as L->inf. Convergence is necessary to conclude causality\n",
    "plt.figure(figsize=(5,5))\n",
    "plt.plot(L_range, Xhat_My, label='$\\hat{X}(t)|M_y$')\n",
    "plt.plot(L_range, Yhat_Mx, label='$\\hat{Y}(t)|M_x$')\n",
    "plt.xlabel('L', size=12)\n",
    "plt.ylabel('correl', size=12)\n",
    "plt.legend(prop={'size': 16}) \n",
    "\n",
    "print('Amount of Rainfall->Dam water level r', np.round(Xhat_My[-1], 2), 'p value', np.round(ccm_XY.causality()[1], 2))\n",
    "print('Dam water level->Amount of Rainfall r', np.round(Yhat_Mx[-1], 2), 'p value', np.round(ccm_YX.causality()[1], 2))"
   ]
  },
  {
   "cell_type": "markdown",
   "metadata": {},
   "source": [
    "**Discussion**\n",
    "\n",
    "Convergence is clear for the effect of rain on dam levels. Meanwhile there is no convergence for the effect of dam levels on rain."
   ]
  },
  {
   "cell_type": "markdown",
   "metadata": {},
   "source": [
    "#### Ipo Dam vs NIA"
   ]
  },
  {
   "cell_type": "code",
   "execution_count": null,
   "metadata": {},
   "outputs": [],
   "source": [
    "# Num Ipo Dam Level vs NIA \n",
    "df = pd.read_csv('../data/Ipo_dataset.csv')\n",
    "make_plots(df, 'Time', 'Dam', 'NIA')"
   ]
  },
  {
   "cell_type": "code",
   "execution_count": null,
   "metadata": {},
   "outputs": [],
   "source": [
    "# Visualize simple shadow manifolds Mx and My for different tau\n",
    "# We visualize Cross-Mapping\n",
    "\n",
    "np.random.seed(1) # we fix the seed when randomly choosing cross mapping points\n",
    "tau = 1 # time lag\n",
    "E = 2 # shadow manifold embedding dimensions\n",
    "L = df.shape[0] # length of time period to consider\n",
    "\n",
    "Y = df['Dam'].values\n",
    "X = df['NIA'].values\n",
    "\n",
    "# Looking at \"convergence\"\n",
    "L_range = range(100, L+1, 100) # L values to test\n",
    "Xhat_My, Yhat_Mx = [], [] # correlation list\n",
    "for L in L_range: \n",
    "    ccm_XY = ccm(X, Y, tau, E, L) # define new ccm object # Testing for X -> Y\n",
    "    ccm_YX = ccm(Y, X, tau, E, L) # define new ccm object # Testing for Y -> X    \n",
    "    Xhat_My.append(ccm_XY.causality()[0]) \n",
    "    Yhat_Mx.append(ccm_YX.causality()[0])    \n",
    "    \n",
    "# plot convergence as L->inf. Convergence is necessary to conclude causality\n",
    "plt.figure(figsize=(5,5))\n",
    "plt.plot(L_range, Xhat_My, label='$\\hat{X}(t)|M_y$')\n",
    "plt.plot(L_range, Yhat_Mx, label='$\\hat{Y}(t)|M_x$')\n",
    "plt.xlabel('L', size=12)\n",
    "plt.ylabel('correl', size=12)\n",
    "plt.legend(prop={'size': 16}) \n",
    "\n",
    "print('Irrigation water level->Dam water level r', np.round(Xhat_My[-1], 2), 'p value', np.round(ccm_XY.causality()[1], 2))\n",
    "print('Dam water level->Irrigation water level r', np.round(Yhat_Mx[-1], 2), 'p value', np.round(ccm_YX.causality()[1], 2))"
   ]
  },
  {
   "cell_type": "markdown",
   "metadata": {},
   "source": [
    "**Discussion**\n",
    "\n",
    "Convergence is clear for the effect of irrigation water flow on dam levels but it is not clear for the effect of dam levels on irrigation water flow."
   ]
  },
  {
   "cell_type": "markdown",
   "metadata": {},
   "source": [
    "#### Ipo Dam vs Angat Dam"
   ]
  },
  {
   "cell_type": "code",
   "execution_count": null,
   "metadata": {},
   "outputs": [],
   "source": [
    "# Num Ipo Dam Level vs Angat Dam Level\n",
    "df1 = pd.read_csv('../data/Ipo_dataset.csv')[['Time', 'Dam']]\n",
    "df1.rename(columns={'Dam':'Ipo_Dam'}, inplace=True)\n",
    "df2 = pd.read_csv('../data/Angat_dataset.csv')[['Time', 'Dam']]\n",
    "df2.rename(columns={'Dam':'Angat_Dam'}, inplace=True)\n",
    "df = df1.merge(df2, on='Time')\n",
    "make_plots(df, 'Time', 'Ipo_Dam', 'Angat_Dam')"
   ]
  },
  {
   "cell_type": "code",
   "execution_count": null,
   "metadata": {},
   "outputs": [],
   "source": [
    "# Visualize simple shadow manifolds Mx and My for different tau\n",
    "# We visualize Cross-Mapping\n",
    "\n",
    "np.random.seed(1) # we fix the seed when randomly choosing cross mapping points\n",
    "tau = 1 # time lag\n",
    "E = 2 # shadow manifold embedding dimensions\n",
    "L = df.shape[0] # length of time period to consider\n",
    "\n",
    "Y = df['Ipo_Dam'].values\n",
    "X = df['Angat_Dam'].values\n",
    "\n",
    "# Looking at \"convergence\"\n",
    "L_range = range(100, L+1, 100) # L values to test\n",
    "Xhat_My, Yhat_Mx = [], [] # correlation list\n",
    "for L in L_range: \n",
    "    ccm_XY = ccm(X, Y, tau, E, L) # define new ccm object # Testing for X -> Y\n",
    "    ccm_YX = ccm(Y, X, tau, E, L) # define new ccm object # Testing for Y -> X    \n",
    "    Xhat_My.append(ccm_XY.causality()[0]) \n",
    "    Yhat_Mx.append(ccm_YX.causality()[0])    \n",
    "    \n",
    "# plot convergence as L->inf. Convergence is necessary to conclude causality\n",
    "plt.figure(figsize=(5,5))\n",
    "plt.plot(L_range, Xhat_My, label='$\\hat{X}(t)|M_y$')\n",
    "plt.plot(L_range, Yhat_Mx, label='$\\hat{Y}(t)|M_x$')\n",
    "plt.xlabel('L', size=12)\n",
    "plt.ylabel('correl', size=12)\n",
    "plt.legend(prop={'size': 16})   \n",
    "\n",
    "print('Angat Dam water level->Ipo Dam water level r', np.round(Xhat_My[-1], 2), 'p value', np.round(ccm_XY.causality()[1], 2))\n",
    "print('Ipo Dam water level->Angat Dam water level r', np.round(Yhat_Mx[-1], 2), 'p value', np.round(ccm_YX.causality()[1], 2))"
   ]
  },
  {
   "cell_type": "markdown",
   "metadata": {},
   "source": [
    "**Discussion**\n",
    "\n",
    "The effect of Angat dam level is stronger on Ipo than the reverse. Also note that convergence is not clear for the effect of Ipo dam level on Angat dam level."
   ]
  },
  {
   "cell_type": "markdown",
   "metadata": {},
   "source": [
    "#### Dam System Inferred Causal Relationships\n",
    "Based on the results above, we can infer a network of causal relationships. Relationships with unclear convergence are shown in broken lines while relationships with clear convergence are shown in solid lines. \n"
   ]
  },
  {
   "attachments": {},
   "cell_type": "markdown",
   "metadata": {},
   "source": [
    "<img src='media/dam_inferred_causality.png' width=\"350\"/>"
   ]
  },
  {
   "cell_type": "markdown",
   "metadata": {},
   "source": [
    "### Jena climate data\n",
    "Here, we look at at some climate data taken from the Max Planck Institute for Biogeochemistry in Jena, Germany from 2009 to 2016"
   ]
  },
  {
   "cell_type": "code",
   "execution_count": null,
   "metadata": {},
   "outputs": [],
   "source": [
    "df = pd.read_csv('../data/jena_climate_2009_2016.csv')\n",
    "df = df.reset_index()\n",
    "make_plots(df, 'index', 'p (mbar)', 'T (degC)') # plot pressure vs Temperature"
   ]
  },
  {
   "cell_type": "code",
   "execution_count": null,
   "metadata": {},
   "outputs": [],
   "source": [
    "np.random.seed(1) # we fix the seed when randomly choosing cross mapping points\n",
    "tau = 1 # time lag\n",
    "E = 2 # shadow manifold embedding dimensions\n",
    "L = 1000 # length of time period to consider\n",
    "\n",
    "X = df['p (mbar)'].values\n",
    "Y = df['T (degC)'].values\n",
    "\n",
    "# Looking at \"convergence\"\n",
    "L_range = range(3, L+1, 50) # L values to test\n",
    "Xhat_My, Yhat_Mx = [], [] # correlation list\n",
    "for L in L_range: \n",
    "    ccm_XY = ccm(X, Y, tau, E, L) # define new ccm object # Testing for X -> Y\n",
    "    ccm_YX = ccm(Y, X, tau, E, L) # define new ccm object # Testing for Y -> X    \n",
    "    Xhat_My.append(ccm_XY.causality()[0]) \n",
    "    Yhat_Mx.append(ccm_YX.causality()[0])    \n",
    "    \n",
    "# plot convergence as L->inf. Convergence is necessary to conclude causality\n",
    "plt.figure(figsize=(5,5))\n",
    "plt.plot(L_range, Xhat_My, label='$\\hat{X}(t)|M_y$')\n",
    "plt.plot(L_range, Yhat_Mx, label='$\\hat{Y}(t)|M_x$')\n",
    "plt.xlabel('L', size=12)\n",
    "plt.ylabel('correl', size=12)\n",
    "plt.legend(prop={'size': 16})    \n",
    "\n",
    "print('Pressure->Temperature r', np.round(Xhat_My[-1], 2), 'p value', np.round(ccm_XY.causality()[1], 2))\n",
    "print('Temperature->Pressure r', np.round(Yhat_Mx[-1], 2), 'p value', np.round(ccm_YX.causality()[1], 2))"
   ]
  },
  {
   "cell_type": "markdown",
   "metadata": {},
   "source": [
    "**Discussion**\n",
    "It seems there is bidirectional (assuming no strong forcing) relationship between pressure and temperature with pressure having more effect on temperature."
   ]
  },
  {
   "cell_type": "markdown",
   "metadata": {},
   "source": [
    "### Climate change\n",
    "Here, we look at climate data taken from climate.nasa.gov."
   ]
  },
  {
   "cell_type": "markdown",
   "metadata": {},
   "source": [
    "#### CO2 emissions, global temperature, and arctic ice area (Non-ecological)"
   ]
  },
  {
   "cell_type": "code",
   "execution_count": null,
   "metadata": {
    "scrolled": true
   },
   "outputs": [],
   "source": [
    "df = pd.read_csv('../data/co2_temp - combined.csv')\n",
    "make_plots(df, 'year', 'co2_avg', 'diff_temp')"
   ]
  },
  {
   "cell_type": "code",
   "execution_count": null,
   "metadata": {},
   "outputs": [],
   "source": [
    "np.random.seed(1) # we fix the seed when randomly choosing cross mapping points\n",
    "tau = 1 # time lag\n",
    "E = 2 # shadow manifold embedding dimensions\n",
    "L = df.shape[0] # length of time period to consider\n",
    "\n",
    "X = df['co2_avg'].values\n",
    "Y = df['diff_temp'].values\n",
    "\n",
    "# Looking at \"convergence\"\n",
    "L_range = range(3, L+1, 1) # L values to test\n",
    "Xhat_My, Yhat_Mx = [], [] # correlation list\n",
    "for L in L_range: \n",
    "    ccm_XY = ccm(X, Y, tau, E, L) # define new ccm object # Testing for X -> Y\n",
    "    ccm_YX = ccm(Y, X, tau, E, L) # define new ccm object # Testing for Y -> X    \n",
    "    Xhat_My.append(ccm_XY.causality()[0]) \n",
    "    Yhat_Mx.append(ccm_YX.causality()[0])    \n",
    "    \n",
    "# plot convergence as L->inf. Convergence is necessary to conclude causality\n",
    "plt.figure(figsize=(5,5))\n",
    "plt.plot(L_range, Xhat_My, label='$\\hat{X}(t)|M_y$')\n",
    "plt.plot(L_range, Yhat_Mx, label='$\\hat{Y}(t)|M_x$')\n",
    "plt.xlabel('L', size=12)\n",
    "plt.ylabel('correl', size=12)\n",
    "plt.legend(prop={'size': 16})    \n",
    "\n",
    "print('CO2 emissions->temperature r', np.round(Xhat_My[-1], 2), 'p value', np.round(ccm_XY.causality()[1], 2))\n",
    "print('temperature->CO2 emissions r', np.round(Yhat_Mx[-1], 2), 'p value', np.round(ccm_YX.causality()[1], 2))"
   ]
  },
  {
   "cell_type": "code",
   "execution_count": null,
   "metadata": {},
   "outputs": [],
   "source": [
    "df2 = df.dropna()\n",
    "make_plots(df2, 'year', 'co2_avg', 'arctic_ice_area')"
   ]
  },
  {
   "cell_type": "code",
   "execution_count": null,
   "metadata": {},
   "outputs": [],
   "source": [
    "X = df2['co2_avg'].values\n",
    "Y = df2['arctic_ice_area'].values\n",
    "\n",
    "np.random.seed(1) # we fix the seed when randomly choosing cross mapping points\n",
    "tau = 1 # time lag\n",
    "E = 2 # shadow manifold embedding dimensions\n",
    "L = len(X) # length of time period to consider\n",
    "\n",
    "# Looking at \"convergence\"\n",
    "L_range = range(3, L+1, 1) # L values to test\n",
    "Xhat_My, Yhat_Mx = [], [] # correlation list\n",
    "for L in L_range: \n",
    "    ccm_XY = ccm(X, Y, tau, E, L) # define new ccm object # Testing for X -> Y\n",
    "    ccm_YX = ccm(Y, X, tau, E, L) # define new ccm object # Testing for Y -> X    \n",
    "    Xhat_My.append(ccm_XY.causality()[0]) \n",
    "    Yhat_Mx.append(ccm_YX.causality()[0])    \n",
    "    \n",
    "# plot convergence as L->inf. Convergence is necessary to conclude causality\n",
    "plt.figure(figsize=(5,5))\n",
    "plt.plot(L_range, Xhat_My, label='$\\hat{X}(t)|M_y$')\n",
    "plt.plot(L_range, Yhat_Mx, label='$\\hat{Y}(t)|M_x$')\n",
    "plt.xlabel('L', size=12)\n",
    "plt.ylabel('correl', size=12)\n",
    "plt.legend(prop={'size': 16})   \n",
    "\n",
    "print('CO2 emissions->Arctic ice area r', np.round(Xhat_My[-1], 2), 'p value', np.round(ccm_XY.causality()[1], 2))\n",
    "print('Arctic ice area->CO2 emissions r', np.round(Yhat_Mx[-1], 2), 'p value', np.round(ccm_YX.causality()[1], 2))"
   ]
  },
  {
   "cell_type": "code",
   "execution_count": null,
   "metadata": {},
   "outputs": [],
   "source": [
    "df2 = df.dropna()\n",
    "make_plots(df2, 'year', 'diff_temp', 'arctic_ice_area')"
   ]
  },
  {
   "cell_type": "code",
   "execution_count": null,
   "metadata": {},
   "outputs": [],
   "source": [
    "X = df2['diff_temp'].values\n",
    "Y = df2['arctic_ice_area'].values\n",
    "\n",
    "np.random.seed(1) # we fix the seed when randomly choosing cross mapping points\n",
    "tau = 1 # time lag\n",
    "E = 2 # shadow manifold embedding dimensions\n",
    "L = len(X) # length of time period to consider\n",
    "\n",
    "# Looking at \"convergence\"\n",
    "L_range = range(3, L+1, 1) # L values to test\n",
    "Xhat_My, Yhat_Mx = [], [] # correlation list\n",
    "for L in L_range: \n",
    "    ccm_XY = ccm(X, Y, tau, E, L) # define new ccm object # Testing for X -> Y\n",
    "    ccm_YX = ccm(Y, X, tau, E, L) # define new ccm object # Testing for Y -> X    \n",
    "    Xhat_My.append(ccm_XY.causality()[0]) \n",
    "    Yhat_Mx.append(ccm_YX.causality()[0])    \n",
    "    \n",
    "# plot convergence as L->inf. Convergence is necessary to conclude causality\n",
    "plt.figure(figsize=(5,5))\n",
    "plt.plot(L_range, Xhat_My, label='$\\hat{X}(t)|M_y$')\n",
    "plt.plot(L_range, Yhat_Mx, label='$\\hat{Y}(t)|M_x$')\n",
    "plt.xlabel('L', size=12)\n",
    "plt.ylabel('correl', size=12)\n",
    "plt.legend(prop={'size': 16})\n",
    "\n",
    "print('temperature->Arctic ice area r', np.round(Xhat_My[-1], 2), 'p value', np.round(ccm_XY.causality()[1], 2))\n",
    "print('Arctic ice area->temperature r', np.round(Yhat_Mx[-1], 2), 'p value', np.round(ccm_YX.causality()[1], 2))"
   ]
  },
  {
   "cell_type": "markdown",
   "metadata": {},
   "source": [
    "**Discussion**\n",
    "* We find strong convergence for all variables above.\n",
    "* How do we interpret the plots above? Did we meet the requirement of convergent cross mapping (convergence and cross mapping) to say there's causality between each pair of variables?\n",
    "* How do we relate the concept of \"strong forcing\" on how we interpret the results?\n",
    "\n",
    "\n"
   ]
  },
  {
   "attachments": {},
   "cell_type": "markdown",
   "metadata": {},
   "source": [
    "#### Inferred Climate System Causal Relationships\n",
    "\n",
    "<img src='media/climate_causality.png' width=\"300\"/>\n",
    "\n",
    "Based on the results above, we can infer a network of causal relationships. There seems to be a strong feedback loops between all three elements in the system. Upon checking past researches on the topic, we find that there are papers that support the seemingly unintuitive interactions in the inferred causal network:\n",
    "\n",
    "* [Evolution of South Atlantic density and chemical stratification across the last deglaciation](https://www.pnas.org/content/113/3/514)\n",
    "* [Arctic sea ice helps remove carbon dioxide from atmosphere, study shows](https://www.sciencedaily.com/releases/2014/09/140922110424.htm)\n",
    "* [Carbon dioxide enhances fragility of ice crystals](https://iopscience.iop.org/article/10.1088/0022-3727/45/44/445302)\n",
    "* [How carbon dioxide melted the world](https://www.nature.com/news/how-carbon-dioxide-melted-the-world-1.10393)"
   ]
  },
  {
   "cell_type": "markdown",
   "metadata": {},
   "source": [
    "### M5 forecasting challenge dataset - Walmart products sales"
   ]
  },
  {
   "cell_type": "code",
   "execution_count": null,
   "metadata": {},
   "outputs": [],
   "source": [
    "df_m5 = pd.read_csv('../data/m5_foods_1_ca1_practice.csv', index_col=\"Week Number\")\n",
    "\n",
    "Y = df_m5['FOODS_1_046'].values\n",
    "X = df_m5['FOODS_1_018'].values\n",
    "\n",
    "r, p = pearsonr(X, Y)\n",
    "print(r, p)\n",
    "\n",
    "plt.figure(figsize=(15,2))\n",
    "\n",
    "plt.plot(X, linewidth=1.25, label='46')\n",
    "plt.plot(Y, linewidth=1.25, label='18')\n",
    "plt.xlabel('timestep', size=12)\n",
    "plt.ylabel('value of X or Y', size=12)\n",
    "plt.legend(prop={'size': 16})"
   ]
  },
  {
   "cell_type": "code",
   "execution_count": null,
   "metadata": {},
   "outputs": [],
   "source": [
    "# We visualize Cross-Mapping\n",
    "\n",
    "np.random.seed(1) # we fix the seed when randomly choosing cross mapping points\n",
    "tau = 1 # time lag\n",
    "E = 2 # shadow manifold embedding dimensions\n",
    "L = df_m5.shape[0] # length of time period to consider\n",
    "\n",
    "# Looking at \"convergence\"\n",
    "L_range = range(3, L+1, 1) # L values to test\n",
    "Xhat_My, Yhat_Mx = [], [] # correlation list\n",
    "for L in L_range: \n",
    "    ccm_XY = ccm(X, Y, tau, E, L) # define new ccm object # Testing for X -> Y\n",
    "    ccm_YX = ccm(Y, X, tau, E, L) # define new ccm object # Testing for Y -> X    \n",
    "    Xhat_My.append(ccm_XY.causality()[0]) \n",
    "    Yhat_Mx.append(ccm_YX.causality()[0])    \n",
    "\n",
    "ccm_XY.visualize_cross_mapping()  \n",
    "ccm_XY.plot_ccm_correls()\n",
    "\n",
    "# plot convergence as L->inf. Convergence is necessary to conclude causality\n",
    "plt.figure(figsize=(5,5))\n",
    "plt.plot(L_range, Xhat_My, label='$\\hat{X}(t)|M_y$')\n",
    "plt.plot(L_range, Yhat_Mx, label='$\\hat{Y}(t)|M_x$')\n",
    "plt.xlabel('L', size=12)\n",
    "plt.ylabel('correl', size=12)\n",
    "plt.legend(prop={'size': 16})  \n",
    "\n",
    "print('X->Y r', np.round(Xhat_My[-1], 2), 'p value', np.round(ccm_XY.causality()[1], 2))\n",
    "print('Y->X r', np.round(Yhat_Mx[-1], 2), 'p value', np.round(ccm_YX.causality()[1], 2))"
   ]
  },
  {
   "cell_type": "markdown",
   "metadata": {},
   "source": [
    "**Discussion**\n",
    "* It seems there is bidirectional relationship between the compared food retail prices."
   ]
  },
  {
   "cell_type": "markdown",
   "metadata": {},
   "source": [
    "### Covid-19 cases and Mobility\n",
    "Here, we look on the effect of mobility on the number of Covid-19 cases"
   ]
  },
  {
   "cell_type": "code",
   "execution_count": null,
   "metadata": {},
   "outputs": [],
   "source": [
    "coviddata = pd.read_csv('../data/Covid_Mobility_data.csv')\n",
    "coviddata = coviddata.reset_index()\n",
    "\n",
    "Y = coviddata['grocery_and_pharmacy'].values\n",
    "X = coviddata['Covid cases'].values\n",
    "\n",
    "r, p = pearsonr(X, Y)\n",
    "print(r, p)\n",
    "\n",
    "make_plots(coviddata, 'index', 'grocery_and_pharmacy', 'Covid cases') "
   ]
  },
  {
   "cell_type": "code",
   "execution_count": null,
   "metadata": {},
   "outputs": [],
   "source": [
    "np.random.seed(1) # we fix the seed when randomly choosing cross mapping points\n",
    "tau = 1 # time lag\n",
    "E = 2 # shadow manifold embedding dimensions\n",
    "L = coviddata.shape[0] # length of time period to consider\n",
    "\n",
    "# Looking at \"convergence\"\n",
    "L_range = range(3, L+1, 50) # L values to test\n",
    "Xhat_My, Yhat_Mx = [], [] # correlation list\n",
    "for L in L_range: \n",
    "    ccm_XY = ccm(X, Y, tau, E, L) # define new ccm object # Testing for X -> Y\n",
    "    ccm_YX = ccm(Y, X, tau, E, L) # define new ccm object # Testing for Y -> X    \n",
    "    Xhat_My.append(ccm_XY.causality()[0]) \n",
    "    Yhat_Mx.append(ccm_YX.causality()[0])    \n",
    "\n",
    "#ccm_XY.visualize_cross_mapping()  \n",
    "#ccm_XY.plot_ccm_correls()\n",
    "\n",
    "# plot convergence as L->inf. Convergence is necessary to conclude causality\n",
    "plt.figure(figsize=(5,5))\n",
    "plt.plot(L_range, Xhat_My, label='$\\hat{X}(t)|M_y$')\n",
    "plt.plot(L_range, Yhat_Mx, label='$\\hat{Y}(t)|M_x$')\n",
    "plt.xlabel('L', size=12)\n",
    "plt.ylabel('correl', size=12)\n",
    "plt.legend(prop={'size': 16})    \n",
    "\n",
    "print('Covid cases->grocery and pharmacy mobility r', np.round(Xhat_My[-1], 2), 'p value', np.round(ccm_XY.causality()[1], 2))\n",
    "print('grocery and pharmacy mobility->Covid cases r', np.round(Yhat_Mx[-1], 2), 'p value', np.round(ccm_YX.causality()[1], 2))"
   ]
  },
  {
   "cell_type": "markdown",
   "metadata": {},
   "source": [
    "**Discussion**\n",
    "* We find moderate causal relationship between the number of Covid cases and grocery and pharmacy mobility with the number of Covid cases having more effect on mobility."
   ]
  },
  {
   "cell_type": "markdown",
   "metadata": {},
   "source": [
    "## Limitation\n",
    "We have shown how CCM can be a powerful tool for quantifying causalities between variables by using time series data. However, the CCM has a limitation that we need to acknowledge: when \"strong forcing\" exists between two variables, bidirectional convergent cross mapping may still happen even with unidirectional causality. We must rule out strong forcing before we can explore if two variables have bidirectional causality."
   ]
  },
  {
   "cell_type": "code",
   "execution_count": null,
   "metadata": {},
   "outputs": [],
   "source": [
    "# Checking convergence for various betas\n",
    "# params\n",
    "X0 = 0.4 # initial val\n",
    "Y0 = 0.4 # initial val\n",
    "r_x = 3.8\n",
    "r_y = 3.8\n",
    "t = 400 # time steps for the dataset\n",
    "L = 400 # time steps for computing CCM\n",
    "E = 2 # embedding dimensions\n",
    "\n",
    "range_ = list(np.arange(0, 1, 0.02)) # B ranges\n",
    "correl_diffs = np.zeros(shape=(len(range_), len(range_))) # correlation list\n",
    "np.random.seed(42)\n",
    "\n",
    "for ind_B_xy in range(len(range_)): # effect on x given y (effect of y on x)\n",
    "    for ind_B_yx in range(len(range_)): # effect on y given x (effect of x on y)\n",
    "        \n",
    "        #r_x = np.random.choice(np.arange(3.6, 4.1, 0.01)) # paper implies random sampling\n",
    "        #r_y = np.random.choice(np.arange(3.6, 4.1, 0.01)) # paper implies random sampling\n",
    "\n",
    "        B_xy = range_[ind_B_xy]\n",
    "        B_yx = range_[ind_B_yx]\n",
    "        \n",
    "        # initialize dataset\n",
    "        X, Y = [X0], [Y0]\n",
    "        for i in range(t):\n",
    "            X_ = func_1(X[-1], Y[-1], r_x, B_xy)\n",
    "            Y_ = func_1(Y[-1], X[-1], r_y, B_yx)    \n",
    "            X.append(X_)\n",
    "            Y.append(Y_)\n",
    "\n",
    "        # there are some combinations that throw an error\n",
    "        # couldn't find the cause but to be fair, Sugihara et al also had \"holes\" in their chart\n",
    "        try:\n",
    "            # Testing for X -> Y\n",
    "            ccm_XY = ccm(X, Y, tau, E, L) # define new ccm object\n",
    "            correl_xy = ccm_XY.causality()[0]          \n",
    "\n",
    "            # Testing for Y -> X\n",
    "            ccm_YX = ccm(Y, X, tau, E, L) # define new ccm object\n",
    "            correl_yx = ccm_YX.causality()[0]\n",
    "\n",
    "            # get diffs \n",
    "            correl_diffs[ind_B_yx][ind_B_xy] = correl_yx - correl_xy # (y -> x) - (x-> y)\n",
    "        except:\n",
    "            continue"
   ]
  },
  {
   "cell_type": "code",
   "execution_count": null,
   "metadata": {},
   "outputs": [],
   "source": [
    "plt.figure(figsize=(5, 5))\n",
    "plt.matshow(np.nan_to_num(correl_diffs), origin='lower', cmap='jet', fignum=1)\n",
    "plt.xlabel('Beta_x_y', size=12)\n",
    "plt.ylabel('Beta_y_x', size=12)\n",
    "plt.title('$correl(\\hat{Y}(t)|M_x) - correl(\\hat{X}(t)|M_y$)', size=14)\n",
    "plt.xticks(range(len(range_)), np.round(range_, 2), rotation=90)\n",
    "plt.yticks(range(len(range_)), np.round(range_, 2))\n",
    "plt.colorbar()\n",
    "plt.tight_layout()\n",
    "plt.show()"
   ]
  },
  {
   "cell_type": "markdown",
   "metadata": {},
   "source": [
    "**Discussion**\n",
    "* For large values of beta (strong forcing), bidirectional convergent cross mapping may still happen even with unidirectional causality as indicated by the zero difference in the correlation coefficient."
   ]
  },
  {
   "cell_type": "markdown",
   "metadata": {},
   "source": [
    "## Summary\n",
    "In this chapter we discussed the theory and algorithm behind Convergent Cross Mapping to infer causality between variables using time series data. We then applied it on simulated and real world data. In the next chapter we will discuss techniques for finding pattens in time series data namely cross correlation, Fourier transform, and Wavelet transform."
   ]
  },
  {
   "cell_type": "markdown",
   "metadata": {},
   "source": [
    "## References\n",
    "**Main references**\n",
    "* [Sugihara, G. et al., 2012. Detecting Causality in Complex Ecosystems. Science, 338(6106), pp.496-500.](https://science.sciencemag.org/content/338/6106/496)\n",
    "* [Sugihara, G. et al., 2012. Supplementary Materials. [online] Science.](https://science.sciencemag.org/content/suppl/2012/09/19/science.1227079.DC1)\n",
    "* [McCracken, J. & Weigel R, 2014. Convergent Cross-Mapping and Pairwise Asymmetric Inference](https://journals.aps.org/pre/abstract/10.1103/PhysRevE.90.062903)\n",
    "\n",
    "**Supplementary materials**\n",
    "* [SI: Step-by-step EDM Analysis. PNAS](https://www.pnas.org/content/pnas/suppl/2016/10/26/1607747113.DCSupplemental/pnas.1607747113.sapp.pdf)\n",
    "* [Daon, Y., 2018. Simplex and S-map Algorithms. Comprehensive R Archive Network](https://cran.microsoft.com/snapshot/2018-07-06/web/packages/rEDM/vignettes/rEDM-algorithms.pdf)\n",
    "* [Petchey, O., 2016. Simplex projection walkthrough. Zurich Open Repository Archive](https://www.zora.uzh.ch/id/eprint/129395/1/Simplex_projection_walkthrough.pdf)\n",
    "* [Mønster, D. et al., 2016. Inferring causality from noisy time series data\n",
    "A test of Convergent Cross-Mapping. arXiv](https://arxiv.org/pdf/1603.01155.pdf)\n",
    "* [Sahil Loomba & Parul Jain. 2016. Causal Computational Models for Gene Regulatory Networks](https://web.iitd.ac.in/~sumeet/Sahil_Parul_btp_thesis.pdf)\n",
    "* [Sauer, T., 2021. Attractor Reconstruction. Scholarpedia.org](http://www.scholarpedia.org/article/Attractor_reconstruction)\n",
    "* Uzal, Lucas & Grinblat, G & Verdes, Pablo. (2011). Optimal reconstruction of dynamical systems: A noise amplification approach. Physical review. E, Statistical, nonlinear, and soft matter physics. 84. 016223. 10.1103/PhysRevE.84.016223.\n",
    "* Tsonis A.A., Deyle E.R., Ye H., Sugihara G. (2018) Convergent Cross Mapping: Theory and an Example. In: Tsonis A. (eds) Advances in Nonlinear Geosciences. Springer, Cham. https://doi.org/10.1007/978-3-319-58895-7_27\n",
    "\n",
    "**Datasets**\n",
    "* [Nicolas Cage Movies & Drownings Stats](https://github.com/myazdani/spurious-correlation-studies/tree/master/data)\n",
    "* [Climate data](https://climate.nasa.gov/vital-signs/carbon-dioxide/)\n",
    "* [Covid data](https://https://doh.gov.ph/covid19tracker)"
   ]
  },
  {
   "cell_type": "code",
   "execution_count": null,
   "metadata": {},
   "outputs": [],
   "source": []
  }
 ],
 "metadata": {
  "kernelspec": {
   "display_name": "Python 3 (ipykernel)",
   "language": "python",
   "name": "python3"
  },
  "language_info": {
   "codemirror_mode": {
    "name": "ipython",
    "version": 3
   },
   "file_extension": ".py",
   "mimetype": "text/x-python",
   "name": "python",
   "nbconvert_exporter": "python",
   "pygments_lexer": "ipython3",
   "version": "3.9.6"
  }
 },
 "nbformat": 4,
 "nbformat_minor": 2
}
